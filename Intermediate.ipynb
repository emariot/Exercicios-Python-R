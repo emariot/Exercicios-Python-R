{
 "cells": [
  {
   "cell_type": "markdown",
   "metadata": {},
   "source": [
    "## Repetition Structures\n",
    "---"
   ]
  },
  {
   "cell_type": "code",
   "execution_count": 7,
   "metadata": {},
   "outputs": [
    {
     "name": "stdout",
     "output_type": "stream",
     "text": [
      "--You can only put real numbers--\n",
      "Enter your number: 1\n",
      "Enter your number: 2\n",
      "Enter your number: 5\n",
      "Enter your number: 11\n",
      "Number of valid numbers: 3\n",
      "Sumation: 8.0\n",
      "Error\n"
     ]
    }
   ],
   "source": [
    "print(\"--You can only put real numbers--\")\n",
    "\n",
    "n = 0\n",
    "s = 0\n",
    "k = 0\n",
    "while 0<=n<=10:\n",
    "    n = float(input(\"Enter your number: \"))\n",
    "    if n > 10 or n < 0: \n",
    "        print(f'Number of valid numbers: {k}')\n",
    "        print(f'Sumation: {s}')\n",
    "        print('Error')\n",
    "        break\n",
    "\n",
    "    k = k + 1\n",
    "    s = s + n\n",
    "    \n"
   ]
  },
  {
   "cell_type": "code",
   "execution_count": 22,
   "metadata": {},
   "outputs": [
    {
     "name": "stdout",
     "output_type": "stream",
     "text": [
      "---Know the sum and average your number---\n",
      "Enter your number: 5\n",
      "Enter your number: 6\n",
      "Enter your number: 9\n",
      "Enter your number: 8\n",
      "Enter your number: 7\n",
      "Enter your number: 4\n",
      "Enter your number: 2\n",
      "Enter your number: 36\n",
      "Enter your number: 3\n",
      "Enter your number: 2\n",
      "Enter your number: 1\n",
      "Enter your number: 2\n",
      "Enter your number: 5\n",
      "Enter your number: 6\n",
      "Enter your number: 3\n",
      "Enter your number: 2\n",
      "Enter your number: 1\n",
      "Enter your number: 2\n",
      "Enter your number: 4\n",
      "Enter your number: 5\n",
      "Enter your number: 2\n",
      "The sum of the numbers is 115.0 and the average is 5.48\n"
     ]
    }
   ],
   "source": [
    "print('---Know the sum and average your number---')\n",
    "m = 0\n",
    "s = 0\n",
    "i = 0\n",
    "while i <= 20:\n",
    "    n = float(input(\"Enter your number: \"))\n",
    "    s = n + s\n",
    "    i = i + 1\n",
    "    m = s/i\n",
    "print(f'The sum of the numbers is {s} and the average is {m:.2f}')\n"
   ]
  },
  {
   "cell_type": "code",
   "execution_count": 6,
   "metadata": {},
   "outputs": [
    {
     "name": "stdout",
     "output_type": "stream",
     "text": [
      "--- Even númbers between 1 and 200 ---\n",
      "2 4 6 8 10 12 14 16 18 20 22 24 26 28 30 32 34 36 38 40 42 44 46 48 50 52 54 56 58 60 62 64 66 68 70 72 74 76 78 80 82 84 86 88 90 92 94 96 98 100 102 104 106 108 110 112 114 116 118 120 122 124 126 128 130 132 134 136 138 140 142 144 146 148 150 152 154 156 158 160 162 164 166 168 170 172 174 176 178 180 182 184 186 188 190 192 194 196 198 200 "
     ]
    }
   ],
   "source": [
    "print('--- Even númbers between 1 and 200 ---')\n",
    "for i in range(1, 201):\n",
    "    if i%2==0:\n",
    "        print(i, end=' ')"
   ]
  },
  {
   "cell_type": "code",
   "execution_count": 7,
   "metadata": {},
   "outputs": [
    {
     "name": "stdout",
     "output_type": "stream",
     "text": [
      "--- Odd númbers between 1 and 200 ---\n",
      "1 3 5 7 9 11 13 15 17 19 21 23 25 27 29 31 33 35 37 39 41 43 45 47 49 51 53 55 57 59 61 63 65 67 69 71 73 75 77 79 81 83 85 87 89 91 93 95 97 99 101 103 105 107 109 111 113 115 117 119 121 123 125 127 129 131 133 135 137 139 141 143 145 147 149 151 153 155 157 159 161 163 165 167 169 171 173 175 177 179 181 183 185 187 189 191 193 195 197 199 "
     ]
    }
   ],
   "source": [
    "print('--- Odd númbers between 1 and 200 ---')\n",
    "for i in range(1, 201):\n",
    "    if i%2!=0:\n",
    "        print(i, end=' ')"
   ]
  },
  {
   "cell_type": "code",
   "execution_count": 24,
   "metadata": {},
   "outputs": [
    {
     "name": "stdout",
     "output_type": "stream",
     "text": [
      "--- Calculate the factorial of a number ---\n",
      "Enter your number: 10\n",
      "Calculating 10!...\n",
      "10!  x  9!  x  8!  x  7!  x  6!  x  5!  x  4!  x  3!  x  2!  x  1!  =  the factorial of 10 is 1048576\n"
     ]
    }
   ],
   "source": [
    "print('--- Calculate the factorial of a number ---')\n",
    "n = int(input('Enter your number: '))\n",
    "c = n\n",
    "f = 1\n",
    "print(f'Calculating {n}!...')\n",
    "while c > 0:  \n",
    "    print(f'{c}!', end=\" \")\n",
    "    print(' x ' if c > 1 else ' = ', end = ' ')\n",
    "    f = f * i\n",
    "    c -= 1\n",
    "print(f'the factorial of {n} is {f}')"
   ]
  },
  {
   "cell_type": "code",
   "execution_count": 9,
   "metadata": {},
   "outputs": [
    {
     "name": "stdout",
     "output_type": "stream",
     "text": [
      "--- Knowing your numbers ---\n",
      "Enter your number: 1\n",
      "Enter your number: 5\n",
      "Enter your number: 8\n",
      "Enter your number: 9\n",
      "Enter your number: 3\n",
      "Enter your number: 1\n",
      "Enter your number: 4\n",
      "Enter your number: 2\n",
      "Enter your number: 5\n",
      "Enter your number: 7\n",
      "Enter your number: 8\n",
      "Enter your number: 1\n",
      "Enter your number: 2\n",
      "Enter your number: 3\n",
      "Enter your number: 56\n",
      "Enter your number: 32\n",
      "Enter your number: 95\n",
      "Enter your number: 97\n",
      "Enter your number: -1\n",
      "The even numbers are: [2, 2, 4, 8, 8, 32, 56]\n",
      "The even numbers are: [1, 1, 1, 3, 3, 5, 5, 7, 9, 95, 97]\n"
     ]
    }
   ],
   "source": [
    "print('--- Knowing your numbers ---')\n",
    "l = []\n",
    "even = []\n",
    "odd = []\n",
    "while True:\n",
    "    n = int(input('Enter your number: '))\n",
    "    if n>0:\n",
    "        l.append(n)\n",
    "    else:\n",
    "        break\n",
    "for num in l:\n",
    "    if num%2==0:\n",
    "        even.append(num)\n",
    "        even.sort()\n",
    "    else:\n",
    "        odd.append(num)\n",
    "        odd.sort()\n",
    "print(f'The even numbers are: {even}')\n",
    "print(f'The even numbers are: {odd}')"
   ]
  },
  {
   "cell_type": "code",
   "execution_count": 17,
   "metadata": {},
   "outputs": [
    {
     "name": "stdout",
     "output_type": "stream",
     "text": [
      "---Working with lists---\n",
      "B\n",
      "C\n",
      "G\n",
      "F\n",
      "I\n",
      "J\n",
      "D\n",
      "M\n",
      "H\n",
      "L\n",
      "E\n",
      "A\n",
      "K\n"
     ]
    }
   ],
   "source": [
    "import random\n",
    "print('---Working with lists---')\n",
    "l=['A','B','C','D','E','F','G','H','I','J','K','L','M']\n",
    "random.shuffle(l)\n",
    "for letter in l:\n",
    "    print(letter)"
   ]
  },
  {
   "cell_type": "code",
   "execution_count": 27,
   "metadata": {},
   "outputs": [
    {
     "name": "stdout",
     "output_type": "stream",
     "text": [
      "--- Know the average of the five numbers ---\n",
      "Enter five numbers: 1\n",
      "Enter five numbers: 5\n",
      "Enter five numbers: 3\n",
      "Enter five numbers: 4\n",
      "Enter five numbers: 2\n",
      "The average of the numbers are: 3.0\n"
     ]
    }
   ],
   "source": [
    "print('--- Know the average of the five numbers ---')\n",
    "s = 0\n",
    "for i in range(1,6):\n",
    "    n = float(input('Enter five numbers: '))\n",
    "    s+=n\n",
    "print(f'The average of the numbers are: {s/5}')"
   ]
  },
  {
   "cell_type": "code",
   "execution_count": 1,
   "metadata": {},
   "outputs": [
    {
     "name": "stdout",
     "output_type": "stream",
     "text": [
      "---Your shopping list---\n",
      "Total purchases is: $127.20\n",
      "Total purchases is: $127.20\n"
     ]
    }
   ],
   "source": [
    "print('---Your shopping list---')\n",
    "list_=[\n",
    "    {'nome':'feijão','preco':9.79},\n",
    "    {'nome':'arroz','preco':3.45},\n",
    "    {'nome':'carne','preco':20.93},\n",
    "    {'nome':'macarrão','preco':2.99},\n",
    "    {'nome':'vinagre','preco':2.25},\n",
    "    {'nome':'pimenta','preco':1.27},\n",
    "    {'nome':'batata','preco':5.67},\n",
    "    {'nome':'leite','preco':12},\n",
    "    {'nome':'manteiga','preco':7.99},\n",
    "    {'nome':'margarina','preco':2.5},\n",
    "    {'nome':'cenoura','preco':3.55},\n",
    "    {'nome':'sabão','preco':4.79},\n",
    "    {'nome':'chá','preco':3.45},\n",
    "    {'nome':'morango','preco':17.8},\n",
    "    {'nome':'soja','preco':20.2},\n",
    "    {'nome':'goiaba','preco':3.45},\n",
    "    {'nome':'melão','preco':5.12},\n",
    "]\n",
    "total = 0\n",
    "for i in list_:\n",
    "    total = total + i['preco']\n",
    "print(f'Total purchases is: ${total:.2f}')\n",
    "\n",
    "# OR:\n",
    "\n",
    "total_ = sum([l['preco'] for l in list_])\n",
    "print(f'Total purchases is: ${total_:.2f}')"
   ]
  },
  {
   "cell_type": "code",
   "execution_count": 2,
   "metadata": {},
   "outputs": [
    {
     "name": "stdout",
     "output_type": "stream",
     "text": [
      "---more and less cheap product---\n",
      "Most expensive product: Carne - $20.93\n",
      "Cheaper product: Pimenta - $1.27\n"
     ]
    }
   ],
   "source": [
    "print('---more and less cheap product---')\n",
    "\n",
    "max_ = max(list_, key=lambda p:p['preco'])\n",
    "min_ = min(list_, key=lambda p:p['preco'])\n",
    "print(f\"Most expensive product: {max_['nome'].title()}: ${max_['preco']:.2f}\")\n",
    "print(f\"Cheaper product: {min_['nome'].title()}: ${min_['preco']:.2f}\")"
   ]
  },
  {
   "cell_type": "code",
   "execution_count": 86,
   "metadata": {},
   "outputs": [
    {
     "data": {
      "text/plain": [
       "'carne'"
      ]
     },
     "execution_count": 86,
     "metadata": {},
     "output_type": "execute_result"
    }
   ],
   "source": [
    "max_['nome']"
   ]
  },
  {
   "cell_type": "code",
   "execution_count": 9,
   "metadata": {},
   "outputs": [
    {
     "name": "stdout",
     "output_type": "stream",
     "text": [
      "---squared---\n",
      "Enter 1º number: 5\n",
      "Enter 2º number: 98\n",
      "Enter 3º number: 4\n",
      "Enter 4º number: 72\n",
      "Enter 5º number: 62\n",
      "The number square 5 is 25\n",
      "The number square 98 is 9604\n",
      "The number square 4 is 16\n",
      "The number square 72 is 5184\n",
      "The number square 62 is 3844\n"
     ]
    }
   ],
   "source": [
    "print(\"---squared---\")\n",
    "l = []\n",
    "for i in range(1,6):\n",
    "    n = int(input(f\"Enter {i}º number: \"))\n",
    "    if n > 0:\n",
    "        l.append(n)\n",
    "    if i == 5:\n",
    "        for n in l:\n",
    "            print(f\"The number square {n} is {n**2}\")\n",
    "        \n",
    "        \n",
    "        "
   ]
  },
  {
   "cell_type": "code",
   "execution_count": 26,
   "metadata": {},
   "outputs": [
    {
     "name": "stdout",
     "output_type": "stream",
     "text": [
      "---work your number---\n",
      "enter your number: 5\n",
      "1 ,2 ,3 ,4 ,5 \n",
      "The sum of even numbers is: 6\n",
      "The sum of odd numbers is: 9\n"
     ]
    }
   ],
   "source": [
    "print(\"---work your number---\")\n",
    "n = int(input(\"enter your number: \"))\n",
    "p = 0\n",
    "o = 0\n",
    "if n>0:\n",
    "    for i in range(1, n+1):\n",
    "        print(i,\",\" if i<5 else \"\", end=\"\")\n",
    "        if i%2==0:\n",
    "            p += i \n",
    "        else:\n",
    "            o += i            \n",
    "    print(f\"\\nThe sum of even numbers is: {p}\")\n",
    "    print(f\"The sum of odd numbers is: {o}\")\n",
    "else:\n",
    "    print(f\"Number {n} invalid!\")"
   ]
  },
  {
   "cell_type": "code",
   "execution_count": 46,
   "metadata": {},
   "outputs": [
    {
     "name": "stdout",
     "output_type": "stream",
     "text": [
      "---Know if the number is prime---\n",
      "Enter your number: 37\n",
      "The number 37 is prime.\n"
     ]
    }
   ],
   "source": [
    "print(\"---Know if the number is prime---\")\n",
    "n = int(input(\"Enter your number: \"))\n",
    "if n > 1 :\n",
    "    for i in range(2, n):\n",
    "            if n%i==0:\n",
    "                print(f\"The number {n} is not prime.\")\n",
    "                break\n",
    "    else: \n",
    "        print(f\"The number {n} is prime.\")\n",
    "else:\n",
    "    print(f\"The number {n} is not prime.\")"
   ]
  },
  {
   "cell_type": "code",
   "execution_count": 18,
   "metadata": {},
   "outputs": [
    {
     "name": "stdout",
     "output_type": "stream",
     "text": [
      "---Prime numbers in an interval---\n",
      "First number in your range: 1\n",
      "Last number in your range: 30\n",
      "The prime numbers in the range are:\n",
      "2\n",
      "3\n",
      "5\n",
      "7\n",
      "11\n",
      "13\n",
      "17\n",
      "19\n",
      "23\n",
      "29\n"
     ]
    }
   ],
   "source": [
    "print(\"---Prime numbers in an interval---\")\n",
    "n = int(input(\"First number in your range: \"))\n",
    "n_ = int(input(\"Last number in your range: \"))\n",
    "print(\"The prime numbers in the range are:\")\n",
    "for i in range(n,n_+1):\n",
    "    if i>1:\n",
    "        for k in range(2,i):\n",
    "            if i%k==0:\n",
    "                break\n",
    "        else:\n",
    "            print(i)\n",
    "    \n",
    "        "
   ]
  },
  {
   "cell_type": "code",
   "execution_count": 11,
   "metadata": {},
   "outputs": [
    {
     "name": "stdout",
     "output_type": "stream",
     "text": [
      "---Fibonacci sequence---\n",
      "Inform the nth term: 10\n",
      "1, 1, 2, 3, 5, 8, 13, 21, 34, 55"
     ]
    }
   ],
   "source": [
    "print(\"---Fibonacci sequence---\")\n",
    "n = int(input(\"Inform the nth term: \"))\n",
    "n1, n2 = 0,1\n",
    "c = 0\n",
    "if n<=0:\n",
    "    print(\"The number must be positive!\")\n",
    "elif n==1:\n",
    "    print(n1)\n",
    "else:\n",
    "    while c<n:\n",
    "        n1,n2=n2,n1+n2\n",
    "        c+=1\n",
    "        print(n1, end=\", \" if c<n else \"\")\n"
   ]
  },
  {
   "cell_type": "code",
   "execution_count": 3,
   "metadata": {},
   "outputs": [
    {
     "name": "stdout",
     "output_type": "stream",
     "text": [
      "---Know the types of list elements---\n",
      "(1,) = <class 'tuple'>\n",
      "[1, 2, 3] = <class 'list'>\n",
      "1 = <class 'int'>\n",
      "{4, 5} = <class 'set'>\n",
      "{'nome': 'A', 'value': 2} = <class 'dict'>\n",
      "10 = <class 'int'>\n",
      "[] = <class 'list'>\n",
      "(1+3j) = <class 'complex'>\n",
      "1.2 = <class 'float'>\n",
      "True = <class 'bool'>\n",
      "False = <class 'bool'>\n",
      "None = <class 'NoneType'>\n",
      "Hello World! = <class 'str'>\n"
     ]
    }
   ],
   "source": [
    "print(\"---Know the types of list elements---\")\n",
    "lista=[\n",
    "    (1,),\n",
    "    [1,2,3],\n",
    "    (1),\n",
    "    {4,5},\n",
    "    {'nome':'A','value':2},\n",
    "    10,\n",
    "    [],\n",
    "    1+3j,\n",
    "    1.2,\n",
    "    True,\n",
    "    False,\n",
    "    None,\n",
    "    'Hello World!',\n",
    "]\n",
    "for i in lista:\n",
    "    print(i,\"=\",type(i))"
   ]
  },
  {
   "cell_type": "code",
   "execution_count": 13,
   "metadata": {},
   "outputs": [
    {
     "name": "stdout",
     "output_type": "stream",
     "text": [
      "---A sommation---\n",
      "First number in your range: 0\n",
      "Last number in your range: 10\n",
      "The sum of the range is 55\n"
     ]
    }
   ],
   "source": [
    "print('---A sommation---')\n",
    "n = int(input(\"First number in your range: \"))\n",
    "n_ = int(input(\"Last number in your range: \"))\n",
    "s = 0\n",
    "if n>=0 and n_>=0:\n",
    "    for i in range(n, n_+1):\n",
    "        s = s+i\n",
    "    print(f'The sum of the range is {s}')\n",
    "else:\n",
    "    print(\"Your numeric range is invalid!\")"
   ]
  },
  {
   "cell_type": "code",
   "execution_count": 13,
   "metadata": {},
   "outputs": [
    {
     "name": "stdout",
     "output_type": "stream",
     "text": [
      "Formic\n",
      "*\n",
      "**\n",
      "***\n",
      "****\n",
      "*****\n",
      "******\n",
      "*******\n",
      "********\n",
      "*********\n",
      "**********\n",
      "***********\n",
      "**********\n",
      "*********\n",
      "********\n",
      "*******\n",
      "******\n",
      "*****\n",
      "****\n",
      "***\n",
      "**\n",
      "*\n"
     ]
    }
   ],
   "source": [
    "print('Formic')\n",
    "for i in range(1,12):\n",
    "    print(i*'*')\n",
    "for i in range(10, 0, -1):\n",
    "    print(i*'*')"
   ]
  },
  {
   "cell_type": "code",
   "execution_count": 16,
   "metadata": {},
   "outputs": [
    {
     "name": "stdout",
     "output_type": "stream",
     "text": [
      "---odd and even in the list---\n",
      "The odd numbers are: 49\n",
      "The even numbers are: 50\n"
     ]
    }
   ],
   "source": [
    "lista=[944, 52, 161, 436, 77, 217, \n",
    "616, 639, 280, 277, 907, 735, 321, \n",
    "194, 736, 130, 793, 148, 799, 631, \n",
    "906, 417, 186, 913, 446, 537, 86, 75, \n",
    "328, 77, 899, 481, 303, 997, 212, 217,\n",
    "696, 391, 402, 800, 709, 293, 9, 700, \n",
    "108, 253, 562, 166, 252, 315, 655, 680,\n",
    "944, 8, 850, 765, 821, 216, 685, 666,\n",
    "860, 32, 492, 880, 714, 424, 270, 308,\n",
    "641, 83, 555, 807, 840, 724, 193, 256, \n",
    "556, 665, 902, 714, 564, 13, 903, 625, 14, \n",
    "551, 301, 915, 633, 781, 427, 517, 372, \n",
    "164, 469, 194, 5, 818, 776,\n",
    "] \n",
    "print(\"---odd and even in the list---\")\n",
    "e = 0\n",
    "o = 0\n",
    "for i in lista:\n",
    "    if i%2==0:\n",
    "        e += 1\n",
    "    else:\n",
    "        o += 1\n",
    "print(f'The odd numbers are: {o}')\n",
    "print(f'The even numbers are: {e}')"
   ]
  },
  {
   "cell_type": "code",
   "execution_count": 18,
   "metadata": {},
   "outputs": [
    {
     "name": "stdout",
     "output_type": "stream",
     "text": [
      "---Another metod---\n",
      "The odd numbers are: 49\n",
      "The even numbers are: 50\n"
     ]
    }
   ],
   "source": [
    "print('---Another metod---' )\n",
    "even_list = [n for n in lista if n%2==0]\n",
    "odd_list = [n for n in lista if n%2!=0]\n",
    "print(f'The odd numbers are: {len(odd_list)}')\n",
    "print(f'The even numbers are: {len(even_list)}')"
   ]
  },
  {
   "cell_type": "code",
   "execution_count": 12,
   "metadata": {},
   "outputs": [
    {
     "name": "stdout",
     "output_type": "stream",
     "text": [
      "---Numbers---\n",
      "1\n",
      "22\n",
      "333\n",
      "4444\n",
      "55555\n",
      "666666\n",
      "7777777\n",
      "88888888\n",
      "999999999\n",
      "10101010101010101010\n",
      "1111111111111111111111\n",
      "121212121212121212121212\n",
      "13131313131313131313131313\n",
      "1414141414141414141414141414\n",
      "151515151515151515151515151515\n",
      "16161616161616161616161616161616\n",
      "1717171717171717171717171717171717\n",
      "181818181818181818181818181818181818\n",
      "19191919191919191919191919191919191919\n",
      "2020202020202020202020202020202020202020\n"
     ]
    }
   ],
   "source": [
    "print('---Numbers---')\n",
    "for i in range(1, 21):\n",
    "    print(i*str(i))\n",
    "    #print(i*f'{i}')"
   ]
  },
  {
   "cell_type": "code",
   "execution_count": 18,
   "metadata": {},
   "outputs": [
    {
     "name": "stdout",
     "output_type": "stream",
     "text": [
      "---With your numbers---\n",
      "Enter first number: 1\n",
      "Enter last number: 20\n",
      "1\n",
      "22\n",
      "333\n",
      "4444\n",
      "55555\n",
      "666666\n",
      "7777777\n",
      "88888888\n",
      "999999999\n",
      "10101010101010101010\n",
      "1111111111111111111111\n",
      "121212121212121212121212\n",
      "13131313131313131313131313\n",
      "1414141414141414141414141414\n",
      "151515151515151515151515151515\n",
      "16161616161616161616161616161616\n",
      "1717171717171717171717171717171717\n",
      "181818181818181818181818181818181818\n",
      "19191919191919191919191919191919191919\n",
      "2020202020202020202020202020202020202020\n"
     ]
    }
   ],
   "source": [
    "print('---With your numbers---')\n",
    "n = int(input(\"Enter first number: \"))\n",
    "n_ = int(input(\"Enter last number: \"))\n",
    "if n>=0 and n_>n:\n",
    "    for i in range(n, n_+1):\n",
    "        print(i*str(i))\n",
    "else:\n",
    "    print(\"Invalid number!\")"
   ]
  },
  {
   "cell_type": "code",
   "execution_count": 25,
   "metadata": {},
   "outputs": [
    {
     "name": "stdout",
     "output_type": "stream",
     "text": [
      "---nth number---\n",
      "Enter nth number: 10\n",
      "1 \n",
      "1 2 \n",
      "1 2 3 \n",
      "1 2 3 4 \n",
      "1 2 3 4 5 \n",
      "1 2 3 4 5 6 \n",
      "1 2 3 4 5 6 7 \n",
      "1 2 3 4 5 6 7 8 \n",
      "1 2 3 4 5 6 7 8 9 \n",
      "1 2 3 4 5 6 7 8 9 10 \n"
     ]
    }
   ],
   "source": [
    "print('---nth number---')\n",
    "n_ = int(input('Enter nth number: '))\n",
    "for i in range(1, n_+1):\n",
    "    for k in range (1, i+1):\n",
    "        print(k, end=' ')\n",
    "    print()\n"
   ]
  },
  {
   "cell_type": "code",
   "execution_count": 88,
   "metadata": {},
   "outputs": [
    {
     "name": "stdout",
     "output_type": "stream",
     "text": [
      "---The song that plays the most---\n",
      "Ascending order\n",
      "[('Música7', {'toques': 2}), ('Música6', {'toques': 14}), ('Música4', {'toques': 14}), ('Música1', {'toques': 29}), ('Música11', {'toques': 30}), ('Música5', {'toques': 44}), ('Música9', {'toques': 45}), ('Música10', {'toques': 79}), ('Música3', {'toques': 137}), ('Música2', {'toques': 190}), ('Música8', {'toques': 201})]\n",
      "\n",
      "Descending order\n",
      "[('Música8', {'toques': 201}), ('Música2', {'toques': 190}), ('Música3', {'toques': 137}), ('Música10', {'toques': 79}), ('Música9', {'toques': 45}), ('Música5', {'toques': 44}), ('Música11', {'toques': 30}), ('Música1', {'toques': 29}), ('Música6', {'toques': 14}), ('Música4', {'toques': 14}), ('Música7', {'toques': 2})]\n",
      "\n",
      "Ascending order\n",
      "Música7 2 toques\n",
      "Música6 14 toques\n",
      "Música4 14 toques\n",
      "Música1 29 toques\n",
      "Música11 30 toques\n",
      "Música5 44 toques\n",
      "Música9 45 toques\n",
      "Música10 79 toques\n",
      "Música3 137 toques\n",
      "Música2 190 toques\n",
      "Música8 201 toques\n",
      "\n",
      "Descending order\n",
      "Música8 201 toques\n",
      "Música2 190 toques\n",
      "Música3 137 toques\n",
      "Música10 79 toques\n",
      "Música9 45 toques\n",
      "Música5 44 toques\n",
      "Música11 30 toques\n",
      "Música1 29 toques\n",
      "Música6 14 toques\n",
      "Música4 14 toques\n",
      "Música7 2 toques\n"
     ]
    }
   ],
   "source": [
    "l=[\n",
    "('Música3',{'toques':137}),\n",
    "('Música7',{'toques':2}),\n",
    "('Música11',{'toques':30}),\n",
    "('Música9',{'toques':45}),\n",
    "('Música10',{'toques':79}),\n",
    "('Música2',{'toques':190}),\n",
    "('Música8',{'toques':201}),\n",
    "('Música5',{'toques':44}),\n",
    "('Música1',{'toques':29}),\n",
    "('Música6',{'toques':14}),\n",
    "('Música4',{'toques':14}),\n",
    "]\n",
    "print('---The song that plays the most---')\n",
    "print('Ascending order')\n",
    "print(sorted(l, key=lambda music:music[1]['toques']))\n",
    "print()\n",
    "print('Descending order')\n",
    "print(sorted(l, key=lambda music:music[1]['toques'], reverse=True))\n",
    "print()\n",
    "print('Ascending order')\n",
    "for m in sorted(l, key=lambda m:m[1]['toques']):\n",
    "    print(m[0], m[1]['toques'], 'toques')\n",
    "print()\n",
    "print('Descending order')\n",
    "for m in sorted(l, key=lambda m:m[1]['toques'], reverse=True):\n",
    "    print(m[0], m[1]['toques'], 'toques')"
   ]
  },
  {
   "cell_type": "code",
   "execution_count": 25,
   "metadata": {},
   "outputs": [
    {
     "name": "stdout",
     "output_type": "stream",
     "text": [
      "---random numbers---\n",
      "[874, 589, 425, 406, 968, 427, 958, 208, 329, 474, 238, 463, 26, 855, 101, 243, 809, 316, 981, 964, 362, 603, 919, 649, 840, 104, 414, 865, 629, 352, 24, 310, 641, 86, 455, 73, 208, 176, 414, 80, 348, 827, 357, 372, 304, 566, 18, 89, 924, 5, 902, 171, 686, 785, 92, 624, 235, 125, 499, 458, 291, 36, 905, 70, 171, 271, 508, 906, 372, 990, 849, 868, 609, 396, 876, 192, 470, 365, 832, 58, 521, 385, 919, 573, 199, 368, 869, 177, 302, 717, 168, 532, 107, 678, 893, 534, 702, 176, 175, 228]\n",
      "The max number is 990\n",
      "The min number is 5\n",
      "The average list is 465.03\n",
      "The standard deviation of the number in the list is 297.4122552887819\n",
      "The sum of the numbes in the list is 46503\n"
     ]
    }
   ],
   "source": [
    "print('---random numbers---')\n",
    "import random\n",
    "from statistics import mean,stdev\n",
    "l = []\n",
    "for i in range(1, 101):\n",
    "    n = random.randint(1,1000)\n",
    "    l.append(n)\n",
    "print(l)\n",
    "print(f'The max number is {max(l)}')\n",
    "print(f'The min number is {min(l)}')\n",
    "print(f'The average list is {mean(l)}')\n",
    "print(f'The standard deviation of the number in the list is {stdev(l)}')\n",
    "print(f'The sum of the numbes in the list is {sum(l)}')"
   ]
  },
  {
   "cell_type": "code",
   "execution_count": 35,
   "metadata": {},
   "outputs": [
    {
     "name": "stdout",
     "output_type": "stream",
     "text": [
      "---Reverse String---\n",
      "! d l r o W   o l l e H "
     ]
    }
   ],
   "source": [
    "print('---Reverse String---')\n",
    "s = 'Hello World!'\n",
    "for i in range(len(s)-1,-1,-1):\n",
    "    print(s[i], end=' ')\n",
    "    "
   ]
  },
  {
   "cell_type": "code",
   "execution_count": 4,
   "metadata": {},
   "outputs": [
    {
     "name": "stdout",
     "output_type": "stream",
     "text": [
      "---Seconds converter---\n",
      "How many seconds will be converted?20000\n",
      "5 hours,  33 minutes and  20 secounds.\n"
     ]
    }
   ],
   "source": [
    "print(\"---Seconds converter---\")\n",
    "seconds = int(input(\"How many seconds will be converted?\"))\n",
    "\n",
    "hours = seconds//3600\n",
    "leftover_sec = seconds%3600\n",
    "minutes = leftover_sec//60\n",
    "leftover = leftover_sec%60\n",
    "\n",
    "print(hours, \"hours, \", minutes, \"minutes and \", leftover, \"secounds.\")\n",
    "\n"
   ]
  },
  {
   "cell_type": "code",
   "execution_count": 2,
   "metadata": {},
   "outputs": [
    {
     "name": "stdout",
     "output_type": "stream",
     "text": [
      "---Quadratic equation---\n",
      "Enter with a: -5\n",
      "Enter with b: 15\n",
      "Enter with c: 0.5\n",
      "The equation has two real roots that are: -0.032970971675589135 and 3.0329709716755895\n"
     ]
    }
   ],
   "source": [
    "from math import sqrt\n",
    "print(\"---Quadratic equation---\")\n",
    "a = float(input(\"Enter with a: \"))\n",
    "b = float(input(\"Enter with b: \"))\n",
    "c = float(input(\"Enter with c: \"))\n",
    "\n",
    "if a==0:\n",
    "    a=1\n",
    "elif b==0:\n",
    "    b=1\n",
    "elif c==0:\n",
    "    c=1\n",
    "\n",
    "delta = b**2 - (4*a*c)\n",
    "\n",
    "if delta < 0:\n",
    "    print(\"The equation has no real root\")\n",
    "elif delta == 0:\n",
    "    x = (-b + sqrt(delta))/(2*a) or (-b - sqrt(delta))/(2*a)\n",
    "    print(\"The equation has a real root that is:\", x)\n",
    "else:\n",
    "    x1 = (-b + sqrt(delta))/(2*a) \n",
    "    x2 = (-b - sqrt(delta))/(2*a)\n",
    "    print(\"The equation has two real roots that are:\", x1, \"and\", x2)\n"
   ]
  },
  {
   "cell_type": "code",
   "execution_count": 9,
   "metadata": {},
   "outputs": [
    {
     "name": "stdout",
     "output_type": "stream",
     "text": [
      "---Function and test: Binomial coefficient---\n"
     ]
    },
    {
     "data": {
      "text/plain": [
       "10.0"
      ]
     },
     "execution_count": 9,
     "metadata": {},
     "output_type": "execute_result"
    }
   ],
   "source": [
    "print(\"---Function and test: Binomial coefficient---\")\n",
    "def factorial(n):\n",
    "    fat = 1\n",
    "    while (n > 1):\n",
    "        fat = fat*n\n",
    "        n = n-1\n",
    "    return fat\n",
    "def binomial_number(n,k):\n",
    "    return factorial(n)/(factorial(k)*factorial(n-k))\n",
    "def factorial_test():\n",
    "    if factorial(1) == 1:\n",
    "        print(\"Correct for 1\")\n",
    "    else:\n",
    "        print(\"Not correct for 1\")\n",
    "    if factorial(2) == 2:\n",
    "        print(\"Correct for 2\")\n",
    "    else:\n",
    "        print(\"Not correct for 2\")\n",
    "    if factorial(0) == 1:\n",
    "        print(\"Correct for 0\")\n",
    "    else:\n",
    "        print(\"Not correct for 0\")\n",
    "    if factorial(5) == 120:\n",
    "        print(\"Correct for 5\")\n",
    "    else:\n",
    "        print(\"Not correct for 5\")\n",
    "binomial_number(5,3)"
   ]
  },
  {
   "cell_type": "code",
   "execution_count": 7,
   "metadata": {},
   "outputs": [
    {
     "name": "stdout",
     "output_type": "stream",
     "text": [
      "Correct for 1\n",
      "Correct for 2\n",
      "Correct for 0\n",
      "Correct for 5\n"
     ]
    }
   ],
   "source": [
    "factorial_test()"
   ]
  },
  {
   "cell_type": "code",
   "execution_count": null,
   "metadata": {},
   "outputs": [],
   "source": []
  }
 ],
 "metadata": {
  "kernelspec": {
   "display_name": "Python 3",
   "language": "python",
   "name": "python3"
  },
  "language_info": {
   "codemirror_mode": {
    "name": "ipython",
    "version": 3
   },
   "file_extension": ".py",
   "mimetype": "text/x-python",
   "name": "python",
   "nbconvert_exporter": "python",
   "pygments_lexer": "ipython3",
   "version": "3.8.5"
  }
 },
 "nbformat": 4,
 "nbformat_minor": 4
}
